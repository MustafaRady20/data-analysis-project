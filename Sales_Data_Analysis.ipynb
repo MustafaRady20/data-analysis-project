{
 "cells": [
  {
   "cell_type": "code",
   "execution_count": 1,
   "id": "dc06e637",
   "metadata": {},
   "outputs": [],
   "source": [
    "# importing necessary libraries for the analysis process\n",
    "import pandas as pd\n",
    "import numpy as np\n",
    "import matplotlib.pyplot as plt"
   ]
  },
  {
   "cell_type": "code",
   "execution_count": 2,
   "id": "49272e70",
   "metadata": {},
   "outputs": [
    {
     "data": {
      "text/html": [
       "<div>\n",
       "<style scoped>\n",
       "    .dataframe tbody tr th:only-of-type {\n",
       "        vertical-align: middle;\n",
       "    }\n",
       "\n",
       "    .dataframe tbody tr th {\n",
       "        vertical-align: top;\n",
       "    }\n",
       "\n",
       "    .dataframe thead th {\n",
       "        text-align: right;\n",
       "    }\n",
       "</style>\n",
       "<table border=\"1\" class=\"dataframe\">\n",
       "  <thead>\n",
       "    <tr style=\"text-align: right;\">\n",
       "      <th></th>\n",
       "      <th>date</th>\n",
       "      <th>product</th>\n",
       "      <th>category</th>\n",
       "      <th>price</th>\n",
       "      <th>quantity</th>\n",
       "      <th>revenue</th>\n",
       "    </tr>\n",
       "  </thead>\n",
       "  <tbody>\n",
       "    <tr>\n",
       "      <th>0</th>\n",
       "      <td>2022-01-01</td>\n",
       "      <td>Smartphone</td>\n",
       "      <td>Electronics</td>\n",
       "      <td>600.0</td>\n",
       "      <td>10.0</td>\n",
       "      <td>6000.0</td>\n",
       "    </tr>\n",
       "    <tr>\n",
       "      <th>1</th>\n",
       "      <td>2022-01-01</td>\n",
       "      <td>Laptop</td>\n",
       "      <td>Electronics</td>\n",
       "      <td>1200.0</td>\n",
       "      <td>5.0</td>\n",
       "      <td>6000.0</td>\n",
       "    </tr>\n",
       "    <tr>\n",
       "      <th>2</th>\n",
       "      <td>2022-01-02</td>\n",
       "      <td>T-Shirt</td>\n",
       "      <td>Clothing</td>\n",
       "      <td>20.0</td>\n",
       "      <td>50.0</td>\n",
       "      <td>1000.0</td>\n",
       "    </tr>\n",
       "    <tr>\n",
       "      <th>3</th>\n",
       "      <td>2022-01-03</td>\n",
       "      <td>Headphones</td>\n",
       "      <td>Electronics</td>\n",
       "      <td>100.0</td>\n",
       "      <td>20.0</td>\n",
       "      <td>2000.0</td>\n",
       "    </tr>\n",
       "    <tr>\n",
       "      <th>4</th>\n",
       "      <td>2022-01-04</td>\n",
       "      <td>T-Shirt</td>\n",
       "      <td>Clothing</td>\n",
       "      <td>20.0</td>\n",
       "      <td>25.0</td>\n",
       "      <td>500.0</td>\n",
       "    </tr>\n",
       "  </tbody>\n",
       "</table>\n",
       "</div>"
      ],
      "text/plain": [
       "         date     product     category   price  quantity  revenue\n",
       "0  2022-01-01  Smartphone  Electronics   600.0      10.0   6000.0\n",
       "1  2022-01-01      Laptop  Electronics  1200.0       5.0   6000.0\n",
       "2  2022-01-02     T-Shirt     Clothing    20.0      50.0   1000.0\n",
       "3  2022-01-03  Headphones  Electronics   100.0      20.0   2000.0\n",
       "4  2022-01-04     T-Shirt     Clothing    20.0      25.0    500.0"
      ]
     },
     "execution_count": 2,
     "metadata": {},
     "output_type": "execute_result"
    }
   ],
   "source": [
    "# Read CSV file \n",
    "data = pd.read_csv(\"Data/sales_data.csv\")\n",
    "# take an overview of the data\n",
    "data.head()"
   ]
  },
  {
   "cell_type": "code",
   "execution_count": 3,
   "id": "64acd82c",
   "metadata": {},
   "outputs": [
    {
     "name": "stdout",
     "output_type": "stream",
     "text": [
      "<class 'pandas.core.frame.DataFrame'>\n",
      "RangeIndex: 369 entries, 0 to 368\n",
      "Data columns (total 6 columns):\n",
      " #   Column    Non-Null Count  Dtype  \n",
      "---  ------    --------------  -----  \n",
      " 0   date      369 non-null    object \n",
      " 1   product   369 non-null    object \n",
      " 2   category  369 non-null    object \n",
      " 3   price     367 non-null    float64\n",
      " 4   quantity  368 non-null    float64\n",
      " 5   revenue   368 non-null    float64\n",
      "dtypes: float64(3), object(3)\n",
      "memory usage: 17.4+ KB\n"
     ]
    }
   ],
   "source": [
    "# get some information about the columns\n",
    "data.info()"
   ]
  },
  {
   "cell_type": "code",
   "execution_count": 4,
   "id": "062eba8b",
   "metadata": {},
   "outputs": [],
   "source": [
    "# we may need to use the date column, so we should convert it from object to be a datetime64\n",
    "data[\"date\"] = pd.to_datetime(data[\"date\"])\n"
   ]
  },
  {
   "cell_type": "code",
   "execution_count": 5,
   "id": "05c109cb",
   "metadata": {},
   "outputs": [
    {
     "name": "stdout",
     "output_type": "stream",
     "text": [
      "<class 'pandas.core.frame.DataFrame'>\n",
      "RangeIndex: 369 entries, 0 to 368\n",
      "Data columns (total 6 columns):\n",
      " #   Column    Non-Null Count  Dtype         \n",
      "---  ------    --------------  -----         \n",
      " 0   date      369 non-null    datetime64[ns]\n",
      " 1   product   369 non-null    object        \n",
      " 2   category  369 non-null    object        \n",
      " 3   price     367 non-null    float64       \n",
      " 4   quantity  368 non-null    float64       \n",
      " 5   revenue   368 non-null    float64       \n",
      "dtypes: datetime64[ns](1), float64(3), object(2)\n",
      "memory usage: 17.4+ KB\n"
     ]
    }
   ],
   "source": [
    "data.info()"
   ]
  },
  {
   "cell_type": "code",
   "execution_count": 6,
   "id": "06bc2e2e",
   "metadata": {},
   "outputs": [
    {
     "data": {
      "text/plain": [
       "date        0\n",
       "product     0\n",
       "category    0\n",
       "price       2\n",
       "quantity    1\n",
       "revenue     1\n",
       "dtype: int64"
      ]
     },
     "execution_count": 6,
     "metadata": {},
     "output_type": "execute_result"
    }
   ],
   "source": [
    "# check if the data has missing values \n",
    "data.isnull().sum()"
   ]
  },
  {
   "cell_type": "code",
   "execution_count": 7,
   "id": "b4b8da44",
   "metadata": {},
   "outputs": [],
   "source": [
    "# droping the rows conatining missing values\n",
    "data=data.dropna()"
   ]
  },
  {
   "cell_type": "code",
   "execution_count": 8,
   "id": "5e9ecf98",
   "metadata": {},
   "outputs": [
    {
     "data": {
      "text/plain": [
       "1"
      ]
     },
     "execution_count": 8,
     "metadata": {},
     "output_type": "execute_result"
    }
   ],
   "source": [
    "# check if the data has duplicated rows\n",
    "data.duplicated().sum()"
   ]
  },
  {
   "cell_type": "code",
   "execution_count": 9,
   "id": "9bd3e206",
   "metadata": {},
   "outputs": [],
   "source": [
    "# reomve duplicated rows\n",
    "data=data.drop_duplicates()"
   ]
  },
  {
   "cell_type": "code",
   "execution_count": 10,
   "id": "aa556cea",
   "metadata": {},
   "outputs": [
    {
     "data": {
      "text/plain": [
       "747230.0"
      ]
     },
     "execution_count": 10,
     "metadata": {},
     "output_type": "execute_result"
    }
   ],
   "source": [
    "totalRevenue=data[\"revenue\"].sum()\n",
    "totalRevenue"
   ]
  },
  {
   "cell_type": "code",
   "execution_count": 11,
   "id": "7c9a60e9",
   "metadata": {},
   "outputs": [],
   "source": [
    "products = data[\"product\"].unique().tolist()"
   ]
  },
  {
   "cell_type": "code",
   "execution_count": 12,
   "id": "ee7888c2",
   "metadata": {},
   "outputs": [
    {
     "data": {
      "text/plain": [
       "['Smartphone',\n",
       " 'Laptop',\n",
       " 'T-Shirt',\n",
       " 'Headphones',\n",
       " 'Watch',\n",
       " 'Tablet',\n",
       " 'Coat',\n",
       " 'Smartwatch',\n",
       " 'Speaker',\n",
       " 'Backpack',\n",
       " 'Hoodie',\n",
       " 'Sneakers',\n",
       " 'Wallet',\n",
       " 'Jeans']"
      ]
     },
     "execution_count": 12,
     "metadata": {},
     "output_type": "execute_result"
    }
   ],
   "source": [
    "products"
   ]
  },
  {
   "cell_type": "code",
   "execution_count": 13,
   "id": "9b30c3b5",
   "metadata": {},
   "outputs": [],
   "source": [
    "# plt.bar(products,data[\"revenue\"])\n",
    "product=data.groupby(\"product\")[\"revenue\"].sum().sort_values(ascending=False)"
   ]
  },
  {
   "cell_type": "code",
   "execution_count": 14,
   "id": "c9d25a78",
   "metadata": {},
   "outputs": [
    {
     "data": {
      "text/plain": [
       "product\n",
       "Smartphone    427800.0\n",
       "Smartwatch     58800.0\n",
       "Speaker        39680.0\n",
       "Coat           33800.0\n",
       "Watch          30450.0\n",
       "Sneakers       21600.0\n",
       "Jeans          20650.0\n",
       "Backpack       20400.0\n",
       "T-Shirt        20100.0\n",
       "Hoodie         19800.0\n",
       "Headphones     18000.0\n",
       "Tablet         18000.0\n",
       "Wallet         12150.0\n",
       "Laptop          6000.0\n",
       "Name: revenue, dtype: float64"
      ]
     },
     "execution_count": 14,
     "metadata": {},
     "output_type": "execute_result"
    }
   ],
   "source": [
    "product"
   ]
  },
  {
   "cell_type": "code",
   "execution_count": 17,
   "id": "a6ec122d",
   "metadata": {},
   "outputs": [
    {
     "data": {
      "text/plain": [
       "([0, 1, 2, 3, 4, 5, 6, 7, 8, 9, 10, 11, 12, 13],\n",
       " [Text(0, 0, 'Smartphone'),\n",
       "  Text(1, 0, 'Smartwatch'),\n",
       "  Text(2, 0, 'Speaker'),\n",
       "  Text(3, 0, 'Coat'),\n",
       "  Text(4, 0, 'Watch'),\n",
       "  Text(5, 0, 'Sneakers'),\n",
       "  Text(6, 0, 'Jeans'),\n",
       "  Text(7, 0, 'Backpack'),\n",
       "  Text(8, 0, 'T-Shirt'),\n",
       "  Text(9, 0, 'Hoodie'),\n",
       "  Text(10, 0, 'Headphones'),\n",
       "  Text(11, 0, 'Tablet'),\n",
       "  Text(12, 0, 'Wallet'),\n",
       "  Text(13, 0, 'Laptop')])"
      ]
     },
     "execution_count": 17,
     "metadata": {},
     "output_type": "execute_result"
    },
    {
     "data": {
      "image/png": "[encoded data removed]",
      "text/plain": [
       "<Figure size 640x480 with 1 Axes>"
      ]
     },
     "metadata": {},
     "output_type": "display_data"
    }
   ],
   "source": [
    "xaxis=product.keys().tolist()\n",
    "yaxis=product.tolist()\n",
    "plt.bar(xaxis,yaxis)\n",
    "plt.xticks(rotation=90)"
   ]
  },
  {
   "cell_type": "code",
   "execution_count": 80,
   "id": "6953b7fc",
   "metadata": {},
   "outputs": [],
   "source": [
    "## the Smartphone has much revenue by generating 427800 per year"
   ]
  },
  {
   "cell_type": "code",
   "execution_count": 18,
   "id": "a439f96d",
   "metadata": {},
   "outputs": [
    {
     "data": {
      "text/plain": [
       "427800.0"
      ]
     },
     "execution_count": 18,
     "metadata": {},
     "output_type": "execute_result"
    }
   ],
   "source": [
    "product[\"Smartphone\"]"
   ]
  },
  {
   "cell_type": "code",
   "execution_count": 19,
   "id": "73565b4c",
   "metadata": {},
   "outputs": [
    {
     "data": {
      "text/plain": [
       "210.65934065934067"
      ]
     },
     "execution_count": 19,
     "metadata": {},
     "output_type": "execute_result"
    }
   ],
   "source": [
    "data[\"price\"].mean()"
   ]
  },
  {
   "cell_type": "code",
   "execution_count": 20,
   "id": "bc617fe2",
   "metadata": {},
   "outputs": [
    {
     "data": {
      "text/plain": [
       "5270.0"
      ]
     },
     "execution_count": 20,
     "metadata": {},
     "output_type": "execute_result"
    }
   ],
   "source": [
    "data[\"quantity\"].sum()"
   ]
  },
  {
   "cell_type": "code",
   "execution_count": 21,
   "id": "1ab67d89",
   "metadata": {},
   "outputs": [
    {
     "data": {
      "text/plain": [
       "category\n",
       "Electronics    509480.0\n",
       "Accessories    101400.0\n",
       "Clothing        93150.0\n",
       "Shoes           20640.0\n",
       "Bags            19500.0\n",
       "Clohting         1200.0\n",
       "Shoeses           960.0\n",
       "Bgas              900.0\n",
       "Name: revenue, dtype: float64"
      ]
     },
     "execution_count": 21,
     "metadata": {},
     "output_type": "execute_result"
    }
   ],
   "source": [
    "categories = data.groupby(\"category\")[\"revenue\"].sum().sort_values(ascending=False)\n",
    "categories"
   ]
  },
  {
   "cell_type": "code",
   "execution_count": 23,
   "id": "f479300d",
   "metadata": {},
   "outputs": [
    {
     "data": {
      "image/png": "[encoded data removed]",
      "text/plain": [
       "<Figure size 640x480 with 1 Axes>"
      ]
     },
     "metadata": {},
     "output_type": "display_data"
    },
    {
     "name": "stdout",
     "output_type": "stream",
     "text": [
      "####################################################################################################\n",
      "the total revenue of the highiest category is 509480.0\n"
     ]
    }
   ],
   "source": [
    "explode=[0.1,0,0,0,0,0,0,0]\n",
    "plt.pie(categories,autopct = '%1.1f%%',explode=explode)\n",
    "plt.legend(categories.keys(),loc=\"lower left\")\n",
    "plt.show()\n",
    "print(\"#\" *100)\n",
    "print(f\"the total revenue of the highiest category is {categories.max()}\")"
   ]
  },
  {
   "cell_type": "code",
   "execution_count": 24,
   "id": "d199a1cb",
   "metadata": {},
   "outputs": [],
   "source": [
    "#  so Electronics are the highest category and has highest revenue with 68.2% of the total"
   ]
  },
  {
   "cell_type": "code",
   "execution_count": 25,
   "id": "9c430be3",
   "metadata": {},
   "outputs": [
    {
     "name": "stdout",
     "output_type": "stream",
     "text": [
      "the Avreage revenue per sale is 2052.8296703296705\n"
     ]
    }
   ],
   "source": [
    "print(f\"the Avreage revenue per sale is { data.revenue.mean() }\")"
   ]
  },
  {
   "cell_type": "code",
   "execution_count": 27,
   "id": "7ed8b3e6",
   "metadata": {},
   "outputs": [],
   "source": [
    "data[\"quarters\"]=data.date.dt.quarter"
   ]
  },
  {
   "cell_type": "code",
   "execution_count": 29,
   "id": "1a373396",
   "metadata": {},
   "outputs": [],
   "source": [
    "quarters_Revenue = data.groupby(\"quarters\")[\"revenue\"].sum()"
   ]
  },
  {
   "cell_type": "code",
   "execution_count": 30,
   "id": "2314ffe9",
   "metadata": {},
   "outputs": [
    {
     "data": {
      "text/plain": [
       "quarters\n",
       "1    182100.0\n",
       "2    177370.0\n",
       "3    195430.0\n",
       "4    192330.0\n",
       "Name: revenue, dtype: float64"
      ]
     },
     "execution_count": 30,
     "metadata": {},
     "output_type": "execute_result"
    }
   ],
   "source": [
    "quarters_Revenue"
   ]
  },
  {
   "cell_type": "code",
   "execution_count": 34,
   "id": "cb4f9c09",
   "metadata": {},
   "outputs": [
    {
     "data": {
      "image/png": "[encoded data removed]",
      "text/plain": [
       "<Figure size 640x480 with 1 Axes>"
      ]
     },
     "metadata": {},
     "output_type": "display_data"
    }
   ],
   "source": [
    "quarters =[\"Q1\",\"Q2\",\"Q3\",\"Q4\"]\n",
    "plt.bar(quarters,quarters_Revenue)\n",
    "plt.show()"
   ]
  },
  {
   "cell_type": "code",
   "execution_count": 35,
   "id": "82409964",
   "metadata": {},
   "outputs": [],
   "source": [
    "# so we find that the third quarter has the highest revenue ~ 195430\n"
   ]
  },
  {
   "cell_type": "markdown",
   "id": "e7d4e27d",
   "metadata": {},
   "source": [
    "## conclusion\n",
    "***\n",
    "#### After cleaning the dataset and applying some necessary calculations we get up with some valuable insights"
   ]
  },
  {
   "cell_type": "markdown",
   "id": "5e71bb06",
   "metadata": {},
   "source": [
    "- The total company revenue this year is 747230 $\\$$\n",
    "- The Smartphone has the highest revenue generating 427800 $\\$$ per year followed by Smartwatch with 58800 $\\$$ \n",
    "- The average number of items sold by the company per year is 5270 with the average price for items of 210.65 $\\$$ \n",
    "- Electronics have the highest sales among the different categories sold by the company with 68.2% of the total revenue and 509480 $\\$$ \n",
    "- followed by Accessories with 101400 $\\$$ \n",
    "- the third quarter has the highest revenue ~ 195430 $\\$$\n"
   ]
  },
  {
   "cell_type": "code",
   "execution_count": null,
   "id": "bce84ffd",
   "metadata": {},
   "outputs": [],
   "source": []
  }
 ],
 "metadata": {
  "kernelspec": {
   "display_name": "Python 3 (ipykernel)",
   "language": "python",
   "name": "python3"
  },
  "language_info": {
   "codemirror_mode": {
    "name": "ipython",
    "version": 3
   },
   "file_extension": ".py",
   "mimetype": "text/x-python",
   "name": "python",
   "nbconvert_exporter": "python",
   "pygments_lexer": "ipython3",
   "version": "3.11.0"
  }
 },
 "nbformat": 4,
 "nbformat_minor": 5
}
